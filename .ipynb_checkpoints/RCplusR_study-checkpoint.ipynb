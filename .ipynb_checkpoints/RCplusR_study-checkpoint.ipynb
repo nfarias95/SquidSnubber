{
 "cells": [
  {
   "cell_type": "code",
   "execution_count": 1,
   "metadata": {},
   "outputs": [],
   "source": [
    "# IMPORT LIBRARIES HERE\n",
    "from snubber_useful_functions import *\n",
    "import numpy as np\n",
    "import math\n",
    "from matplotlib import cm, colors\n",
    "from matplotlib import pyplot as plt\n",
    "%matplotlib inline\n"
   ]
  },
  {
   "cell_type": "markdown",
   "metadata": {},
   "source": [
    "## Welcome, let's do some RC squid snubber calculations, this time with two snubbers in parallel!\n"
   ]
  },
  {
   "cell_type": "code",
   "execution_count": 2,
   "metadata": {},
   "outputs": [
    {
     "name": "stdout",
     "output_type": "stream",
     "text": [
      "C2s_array: [2.e-09 4.e-09]\n"
     ]
    }
   ],
   "source": [
    "\n",
    "##########\n",
    "# set up #\n",
    "##########\n",
    "\n",
    "# DESIRED PERFORMANCE\n",
    "fc = 11e6 # [Hz] Cutoff frequency\n",
    "n_freq = 200 # number of frequency points to be probed\n",
    "freq_array = np.linspace(1.5e6, 4.5e6, n_freq)\n",
    "NEI_all = 7e-12 # [A/sqrt(Hz)] maximum allowable NEI due to johnson noise\n",
    "\n",
    "# CONSTANTS\n",
    "rtes = 0.8 # Resistance of TES bolometer\n",
    "T = 4. # temperature of squid and snubber [K]\n",
    "Lsq = 45e-9 # 45nH for STRC, 70 for SA13\n",
    "\n",
    "# Allowable capacitors\n",
    "n_C = 2\n",
    "minC = 2e-9\n",
    "maxC = 4e-9\n",
    "C1s_array = np.linspace(minC, maxC, n_C) # [Farads] capacitance values to use to evaluate snubber 1\n",
    "C2s_array = np.linspace(minC, maxC, n_C) # [Farads] capacitance values to use to evaluate snubber\n",
    "print(\"C2s_array:\", C2s_array)\n",
    "\n",
    "\n",
    "# Allowable resistances\n",
    "n_R = 2 # number of resistances to be tested\n",
    "minR = 1\n",
    "maxR = 2\n",
    "R1s_array = np.linspace(minR, maxR, n_R )\n",
    "R2s_array = np.linspace(minR, maxR, n_R )\n",
    "\n"
   ]
  },
  {
   "cell_type": "code",
   "execution_count": 8,
   "metadata": {},
   "outputs": [
    {
     "name": "stdout",
     "output_type": "stream",
     "text": [
      "(2-3.5367765131532296e-13j)\n",
      "NEI 1:  2.0851123820308645e-11\n",
      "NEI 2:  1.483284907550654e-11\n"
     ]
    }
   ],
   "source": [
    "# test my sanity\n",
    "f = 4.5e5\n",
    "c = 10e-9 # Farads\n",
    "c = 1e6\n",
    "lsq = 45e-9 # Henry\n",
    "temp = 4\n",
    "\n",
    "r = 1\n",
    "Zsnub = get_zsnub(f, r, c)\n",
    "NEI1 = get_nei(f, Zsnub, lsq, temp)\n",
    "\n",
    "r = 2\n",
    "Zsnub = get_zsnub(f, r, c)\n",
    "print(Zsnub)\n",
    "NEI2 = get_nei(f, Zsnub, lsq, temp)\n",
    "print(\"NEI 1: \", NEI1)\n",
    "print(\"NEI 2: \", NEI2)"
   ]
  },
  {
   "cell_type": "markdown",
   "metadata": {},
   "source": [
    "## Brute force calculate what happens over many R-C combinations"
   ]
  },
  {
   "cell_type": "code",
   "execution_count": 44,
   "metadata": {},
   "outputs": [
    {
     "name": "stdout",
     "output_type": "stream",
     "text": [
      "Size of max_NEI_matrix: (2, 2, 2, 2)\n",
      "\n",
      "R1  |  R2  |    C1    |    C2    | max(NEI) | fc [MHz] |\n",
      "1.0 |  1.0 |  2.0e-09 |  2.0e-09 |   2.0    | 1.5  | \n",
      "\n",
      "R1  |  R2  |    C1    |    C2    | max(NEI) | fc [MHz] |\n",
      "1.0 |  1.0 |  2.0e-09 |  4.0e-09 |   3.4    | 1.5  | \n",
      "\n",
      "R1  |  R2  |    C1    |    C2    | max(NEI) | fc [MHz] |\n",
      "1.0 |  1.0 |  4.0e-09 |  2.0e-09 |   3.4    | 1.5  | \n",
      "\n",
      "R1  |  R2  |    C1    |    C2    | max(NEI) | fc [MHz] |\n",
      "1.0 |  1.0 |  4.0e-09 |  4.0e-09 |   4.7    | 1.5  | \n",
      "\n",
      "R1  |  R2  |    C1    |    C2    | max(NEI) | fc [MHz] |\n",
      "1.0 |  2.0 |  2.0e-09 |  2.0e-09 |   2.4    | 1.5  | \n",
      "\n",
      "R1  |  R2  |    C1    |    C2    | max(NEI) | fc [MHz] |\n",
      "1.0 |  2.0 |  2.0e-09 |  4.0e-09 |   4.4    | 1.5  | \n",
      "\n",
      "R1  |  R2  |    C1    |    C2    | max(NEI) | fc [MHz] |\n",
      "1.0 |  2.0 |  4.0e-09 |  2.0e-09 |   3.7    | 1.5  | \n",
      "\n",
      "R1  |  R2  |    C1    |    C2    | max(NEI) | fc [MHz] |\n",
      "1.0 |  2.0 |  4.0e-09 |  4.0e-09 |   5.6    | 1.5  | \n",
      "\n",
      "R1  |  R2  |    C1    |    C2    | max(NEI) | fc [MHz] |\n",
      "2.0 |  1.0 |  2.0e-09 |  2.0e-09 |   2.4    | 1.5  | \n",
      "\n",
      "R1  |  R2  |    C1    |    C2    | max(NEI) | fc [MHz] |\n",
      "2.0 |  1.0 |  2.0e-09 |  4.0e-09 |   3.7    | 1.5  | \n",
      "\n",
      "R1  |  R2  |    C1    |    C2    | max(NEI) | fc [MHz] |\n",
      "2.0 |  1.0 |  4.0e-09 |  2.0e-09 |   4.4    | 1.5  | \n",
      "\n",
      "R1  |  R2  |    C1    |    C2    | max(NEI) | fc [MHz] |\n",
      "2.0 |  1.0 |  4.0e-09 |  4.0e-09 |   5.6    | 1.5  | \n",
      "\n",
      "R1  |  R2  |    C1    |    C2    | max(NEI) | fc [MHz] |\n",
      "2.0 |  2.0 |  2.0e-09 |  2.0e-09 |   2.8    | 1.5  | \n",
      "\n",
      "R1  |  R2  |    C1    |    C2    | max(NEI) | fc [MHz] |\n",
      "2.0 |  2.0 |  2.0e-09 |  4.0e-09 |   4.6    | 1.5  | \n",
      "\n",
      "R1  |  R2  |    C1    |    C2    | max(NEI) | fc [MHz] |\n",
      "2.0 |  2.0 |  4.0e-09 |  2.0e-09 |   4.6    | 1.5  | \n",
      "\n",
      "R1  |  R2  |    C1    |    C2    | max(NEI) | fc [MHz] |\n",
      "2.0 |  2.0 |  4.0e-09 |  4.0e-09 |   6.4    | 1.5  | \n",
      "End of giant loop\n",
      "[[[[1.95922153 3.36127909]\n",
      "   [3.36127909 4.66200412]]\n",
      "\n",
      "  [[2.38993219 4.40212988]\n",
      "   [3.67488511 5.59304125]]]\n",
      "\n",
      "\n",
      " [[[2.38993219 3.67488511]\n",
      "   [4.40212988 5.59304125]]\n",
      "\n",
      "  [[2.75287739 4.64041336]\n",
      "   [4.64041336 6.36249969]]]]\n"
     ]
    }
   ],
   "source": [
    "max_NEI_matrix = np.zeros((n_R, n_R, n_C, n_C))\n",
    "print(\"Size of max_NEI_matrix:\", max_NEI_matrix.shape)\n",
    "r1c = -1; r2c = -1; c1c = -1 ; c2c = -1 ; # index counters\n",
    "\n",
    "for R1 in R1s_array:\n",
    "    r1c = r1c + 1\n",
    "    r2c = -1\n",
    "    for R2 in R2s_array:\n",
    "        r2c = r2c + 1\n",
    "        c1c = -1\n",
    "        for C1 in C1s_array:\n",
    "            c1c = c1c + 1\n",
    "            c2c = -1\n",
    "            for C2 in C2s_array:\n",
    "                c2c = c2c + 1\n",
    "                \n",
    "                #print(\"R1, R2, C1, C2: \", r1c, r2c, c1c, c2c)\n",
    "                #print(R1, R2, C1, C2)\n",
    "                # Calculate impedances\n",
    "                Z1 = get_zsnub(freq_array, R1, C1)\n",
    "                Z2 = get_zsnub(freq_array, R2, C2)\n",
    "                Zs = parallel(Z1, Z2) # impedance of snubber\n",
    "                \n",
    "                # calculate NEI\n",
    "                max_NEI = max(get_nei(freq_array, Zs, Lsq, T))\n",
    "                max_NEI_matrix[r1c, r2c, c1c, c2c] = max_NEI\n",
    "                \n",
    "                # calculate cutoff frequency\n",
    "                tf = get_tf(freq_array, Zs, Lsq)\n",
    "                fc = get_fc(freq_array, tf)\n",
    "                \n",
    "                print(\"\\nR1  |  R2  |    C1    |    C2    | max(NEI) | fc [MHz] |\")\n",
    "                print(\"%.1f |  %.1f |  %.1e |  %.1e |   %.1f    | %.1f  | \" %(R1 ,R2 ,C1 ,C2 ,max_NEI*1e12, fc/1e6))\n",
    "                \n",
    "                if np.isnan(max_NEI):\n",
    "                    print(\"Nan. \", R1, R2, C1, C2)\n",
    "                \n",
    "print(\"End of giant loop\")\n",
    "print(max_NEI_matrix * 1e12)\n",
    "\n"
   ]
  },
  {
   "cell_type": "markdown",
   "metadata": {},
   "source": [
    "### Find the two R-C in parallel combinations that yield the desired cutoff frequency "
   ]
  },
  {
   "cell_type": "code",
   "execution_count": 43,
   "metadata": {},
   "outputs": [
    {
     "name": "stdout",
     "output_type": "stream",
     "text": [
      "Range of R: 0.11 - 2.54 Ohms\n",
      "Range of C: 11.24 - 30.00 nF\n",
      "Rs:  [0.11112296 0.19868977 0.25779492 0.30543624 0.34637848 0.38277885\n",
      " 0.4158332  0.44628692 0.47464204 0.50125597 0.52639393 0.55025923\n",
      " 0.57301187 0.59478046 0.61567026 0.63576874 0.65514951 0.67387528\n",
      " 0.69199996 0.70957034 0.72662731 0.7432069  0.75934102 0.77505812\n",
      " 0.79038369 0.80534068 0.81994983 0.83422997 0.84819828 0.86187045\n",
      " 0.87526086 0.88838278 0.90124841 0.91386907 0.92625525 0.93841668\n",
      " 0.95036245 0.96210102 0.97364033 0.9849878  0.9961504  1.00713468\n",
      " 1.0179468  1.02859259 1.03907755 1.04940685 1.05958543 1.06961794\n",
      " 1.07950882 1.08926225 1.09888226 1.10837263 1.11773701 1.12697885\n",
      " 1.13610147 1.14510802 1.15400153 1.16278489 1.17146087 1.18003214\n",
      " 1.18850124 1.19687063 1.20514266 1.21331959 1.22140361 1.2293968\n",
      " 1.2373012  1.24511874 1.25285131 1.26050071 1.2680687  1.27555697\n",
      " 1.28296715 1.29030081 1.2975595  1.30474468 1.31185778 1.3189002\n",
      " 1.32587328 1.33277832 1.33961658 1.34638929 1.35309765 1.3597428\n",
      " 1.36632587 1.37284795 1.37931009 1.38571334 1.39205869 1.39834711\n",
      " 1.40457957 1.41075697 1.41688023 1.42295021 1.42896777 1.43493375\n",
      " 1.44084895 1.44671418 1.45253019 1.45829774 1.46401758 1.4696904\n",
      " 1.47531693 1.48089784 1.4864338  1.49192546 1.49737346 1.50277842\n",
      " 1.50814097 1.51346168 1.51874115 1.52397995 1.52917863 1.53433775\n",
      " 1.53945783 1.5445394  1.54958298 1.55458907 1.55955815 1.56449071\n",
      " 1.56938723 1.57424817 1.57907397 1.5838651  1.58862197 1.59334503\n",
      " 1.59803468 1.60269135 1.60731543 1.61190733 1.61646742 1.6209961\n",
      " 1.62549374 1.62996071 1.63439736 1.63880406 1.64318114 1.64752896\n",
      " 1.65184785 1.65613814 1.66040016 1.66463422 1.66884064 1.67301973\n",
      " 1.67717178 1.68129711 1.685396   1.68946873 1.69351561 1.69753689\n",
      " 1.70153286 1.70550379 1.70944994 1.71337158 1.71726896 1.72114233\n",
      " 1.72499195 1.72881806 1.7326209  1.73640071 1.74015773 1.74389218\n",
      " 1.74760429 1.75129429 1.7549624  1.75860883 1.7622338  1.76583751\n",
      " 1.76942019 1.77298202 1.77652322 1.78004399 1.78354451 1.78702498\n",
      " 1.7904856  1.79392655 1.79734801 1.80075017 1.80413321 1.80749731\n",
      " 1.81084264 1.81416938 1.81747769 1.82076775 1.82403971 1.82729375\n",
      " 1.83053003 1.8337487  1.83694992 1.84013385 1.84330064 1.84645045\n",
      " 1.84958341 1.85269969 1.85579942 1.85888274 1.86194981 1.86500076\n",
      " 1.86803573 1.87105485 1.87405826 1.8770461  1.88001849 1.88297556\n",
      " 1.88591745 1.88884428 1.89175618 1.89465326 1.89753566 1.90040349\n",
      " 1.90325687 1.90609592 1.90892076 1.91173149 1.91452825 1.91731113\n",
      " 1.92008025 1.92283572 1.92557765 1.92830614 1.9310213  1.93372324\n",
      " 1.93641206 1.93908787 1.94175075 1.94440083 1.94703818 1.94966292\n",
      " 1.95227513 1.95487493 1.95746239 1.96003761 1.96260069 1.96515172\n",
      " 1.96769079 1.97021798 1.9727334  1.97523711 1.97772923 1.98020982\n",
      " 1.98267897 1.98513677 1.98758331 1.99001865 1.9924429  1.99485612\n",
      " 1.99725839 1.9996498  2.00203043 2.00440034 2.00675962 2.00910835\n",
      " 2.0114466  2.01377443 2.01609194 2.01839919 2.02069624 2.02298318\n",
      " 2.02526008 2.027527   2.02978401 2.03203118 2.03426859 2.03649629\n",
      " 2.03871436 2.04092285 2.04312184 2.0453114  2.04749157 2.04966244\n",
      " 2.05182405 2.05397648 2.05611978 2.05825402 2.06037926 2.06249555\n",
      " 2.06460295 2.06670153 2.06879135 2.07087245 2.07294491 2.07500876\n",
      " 2.07706408 2.07911091 2.08114932 2.08317935 2.08520106 2.08721451\n",
      " 2.08921974 2.09121681 2.09320578 2.09518668 2.09715959 2.09912453\n",
      " 2.10108158 2.10303077 2.10497215 2.10690578 2.10883171 2.11074997\n",
      " 2.11266062 2.11456371 2.11645929 2.11834739 2.12022807 2.12210137\n",
      " 2.12396733 2.12582601 2.12767744 2.12952168 2.13135876 2.13318872\n",
      " 2.13501162 2.13682749 2.13863638 2.14043832 2.14223337 2.14402155\n",
      " 2.14580292 2.1475775  2.14934535 2.15110651 2.152861   2.15460887\n",
      " 2.15635017 2.15808492 2.15981317 2.16153496 2.16325032 2.16495928\n",
      " 2.1666619  2.1683582  2.17004821 2.17173199 2.17340956 2.17508095\n",
      " 2.17674621 2.17840537 2.18005845 2.18170551 2.18334657 2.18498166\n",
      " 2.18661083 2.18823409 2.1898515  2.19146307 2.19306884 2.19466885\n",
      " 2.19626312 2.19785169 2.19943459 2.20101185 2.2025835  2.20414958\n",
      " 2.20571011 2.20726512 2.20881465 2.21035872 2.21189736 2.21343061\n",
      " 2.21495849 2.21648104 2.21799827 2.21951023 2.22101693 2.22251841\n",
      " 2.22401469 2.2255058  2.22699178 2.22847264 2.22994842 2.23141913\n",
      " 2.23288482 2.2343455  2.2358012  2.23725194 2.23869777 2.24013869\n",
      " 2.24157473 2.24300593 2.2444323  2.24585387 2.24727067 2.24868271\n",
      " 2.25009004 2.25149266 2.2528906  2.2542839  2.25567256 2.25705662\n",
      " 2.2584361  2.25981102 2.26118141 2.26254728 2.26390867 2.26526559\n",
      " 2.26661806 2.26796612 2.26930978 2.27064906 2.27198398 2.27331457\n",
      " 2.27464085 2.27596285 2.27728057 2.27859405 2.2799033  2.28120834\n",
      " 2.2825092  2.2838059  2.28509845 2.28638688 2.28767121 2.28895145\n",
      " 2.29022764 2.29149978 2.29276789 2.29403201 2.29529213 2.2965483\n",
      " 2.29780052 2.29904881 2.30029319 2.30153369 2.30277031 2.30400309\n",
      " 2.30523202 2.30645715 2.30767848 2.30889603 2.31010981 2.31131986\n",
      " 2.31252618 2.31372879 2.31492771 2.31612296 2.31731455 2.31850251\n",
      " 2.31968684 2.32086757 2.32204471 2.32321828 2.3243883  2.32555478\n",
      " 2.32671773 2.32787719 2.32903315 2.33018564 2.33133467 2.33248026\n",
      " 2.33362243 2.33476118 2.33589655 2.33702853 2.33815715 2.33928243\n",
      " 2.34040437 2.34152299 2.34263831 2.34375034 2.3448591  2.34596461\n",
      " 2.34706687 2.3481659  2.34926171 2.35035433 2.35144376 2.35253002\n",
      " 2.35361312 2.35469308 2.35576991 2.35684362 2.35791423 2.35898176\n",
      " 2.36004621 2.3611076  2.36216594 2.36322125 2.36427353 2.36532281\n",
      " 2.3663691  2.3674124  2.36845274 2.36949011 2.37052455 2.37155606\n",
      " 2.37258465 2.37361033 2.37463313 2.37565304 2.37667009 2.37768428\n",
      " 2.37869563 2.37970415 2.38070985 2.38171274 2.38271284 2.38371015\n",
      " 2.3847047  2.38569648 2.38668552 2.38767183 2.38865541 2.38963627\n",
      " 2.39061444 2.39158991 2.39256271 2.39353284 2.39450031 2.39546513\n",
      " 2.39642733 2.3973869  2.39834385 2.39929821 2.40024997 2.40119916\n",
      " 2.40214577 2.40308983 2.40403134 2.40497031 2.40590675 2.40684068\n",
      " 2.4077721  2.40870102 2.40962746 2.41055142 2.41147292 2.41239196\n",
      " 2.41330855 2.41422271 2.41513444 2.41604375 2.41695066 2.41785517\n",
      " 2.41875729 2.41965704 2.42055441 2.42144943 2.4223421  2.42323243\n",
      " 2.42412043 2.42500611 2.42588947 2.42677054 2.42764931 2.42852579\n",
      " 2.4294     2.43027194 2.43114162 2.43200906 2.43287426 2.43373722\n",
      " 2.43459796 2.43545649 2.43631281 2.43716694 2.43801888 2.43886864\n",
      " 2.43971623 2.44056165 2.44140492 2.44224605 2.44308504 2.4439219\n",
      " 2.44475664 2.44558927 2.44641979 2.44724821 2.44807455 2.4488988\n",
      " 2.44972099 2.45054111 2.45135917 2.45217518 2.45298915 2.45380109\n",
      " 2.454611   2.4554189  2.45622478 2.45702867 2.45783055 2.45863045\n",
      " 2.45942837 2.46022431 2.4610183  2.46181032 2.46260039 2.46338852\n",
      " 2.46417471 2.46495897 2.46574132 2.46652174 2.46730026 2.46807688\n",
      " 2.46885161 2.46962445 2.47039541 2.4711645  2.47193172 2.47269708\n",
      " 2.4734606  2.47422226 2.47498209 2.47574009 2.47649626 2.47725062\n",
      " 2.47800316 2.4787539  2.47950284 2.48024999 2.48099535 2.48173893\n",
      " 2.48248074 2.48322079 2.48395907 2.48469561 2.48543039 2.48616344\n",
      " 2.48689475 2.48762433 2.48835219 2.48907833 2.48980277 2.4905255\n",
      " 2.49124653 2.49196587 2.49268353 2.4933995  2.49411381 2.49482644\n",
      " 2.49553742 2.49624674 2.4969544  2.49766043 2.49836481 2.49906756\n",
      " 2.49976869 2.5004682  2.50116608 2.50186236 2.50255704 2.50325012\n",
      " 2.5039416  2.50463149 2.50531981 2.50600655 2.50669171 2.50737531\n",
      " 2.50805735 2.50873784 2.50941677 2.51009417 2.51077002 2.51144434\n",
      " 2.51211713 2.5127884  2.51345815 2.51412639 2.51479312 2.51545835\n",
      " 2.51612208 2.51678432 2.51744508 2.51810435 2.51876214 2.51941847\n",
      " 2.52007332 2.52072671 2.52137865 2.52202914 2.52267817 2.52332577\n",
      " 2.52397193 2.52461665 2.52525995 2.52590183 2.52654228 2.52718133\n",
      " 2.52781896 2.52845519 2.52909002 2.52972346 2.53035551 2.53098617\n",
      " 2.53161545 2.53224335 2.53286988 2.53349505 2.53411885 2.53474129\n",
      " 2.53536238 2.53598213 2.53660052 2.53721758 2.5378333 ]\n"
     ]
    }
   ],
   "source": [
    "## \n",
    "# Calculate the resistance range that can meet this cutoff frequency\n",
    "##\n",
    "\n",
    "R1s_array = np.zeros(n)\n",
    "R2s_array = np.zeros(n)\n",
    "\n",
    "i=-1\n",
    "for Cs in Cs_array:\n",
    "    i = i + 1\n",
    "    # calculate the resistance that provides a cutoff of fc given my choice of C and the SQUID input inductance\n",
    "    Rs = get_params(c=Cs, fc=fc, lsq=Lsq) \n",
    "    Rs_array[i] = Rs\n",
    "    #print(\"Rs: \", Rs)\n",
    "\n",
    "# Now we should ignore the nan values\n",
    "i=0\n",
    "while (math.isnan(Rs_array[i] )):\n",
    "    i = i+1\n",
    "n = n-i # new n\n",
    "#print(i)\n",
    "\n",
    "Rs_array = np.delete(Rs_array, list(range(0, i) ) )\n",
    "Cs_array = np.delete(Cs_array, list(range(0,i)))\n",
    "\n",
    "print(\"Range of R: %.2f - %.2f Ohms\" % (min(Rs_array), max(Rs_array)))\n",
    "print(\"Range of C: %.2f - %.2f nF\" % (1e9 * min(Cs_array), 1e9 * max(Cs_array)))\n",
    "#print(\"Rs: \", Rs_array)\n",
    "#print(\"Cs: \", Cs_array)\n",
    "\n"
   ]
  },
  {
   "cell_type": "markdown",
   "metadata": {},
   "source": [
    "## Johnson Noise Calculations"
   ]
  },
  {
   "cell_type": "code",
   "execution_count": 45,
   "metadata": {},
   "outputs": [
    {
     "name": "stdout",
     "output_type": "stream",
     "text": [
      "Cutoff frequency: 11.00 [MHz]\n",
      "Lin: 45.0 nH (45 for STRC, 70 for SA13)\n",
      "Range of max NEI: 3.7 - 14.0  [pA/sqrt(Hz)]\n",
      "Range of mean NEI: 2.0 - 11.9  [pA/sqrt(Hz)]\n"
     ]
    },
    {
     "data": {
      "text/plain": [
       "Text(0, 0.5, 'NEI pA/sqrt(Hz)')"
      ]
     },
     "execution_count": 45,
     "metadata": {},
     "output_type": "execute_result"
    },
    {
     "data": {
      "image/png": "[encoded data removed]",
      "text/plain": [
       "<Figure size 432x288 with 1 Axes>"
      ]
     },
     "metadata": {
      "needs_background": "light"
     },
     "output_type": "display_data"
    }
   ],
   "source": [
    "# First, we calculate the maximum Johnson noise of each RC configuration\n",
    "NEI_max_array = np.zeros(n)\n",
    "NEI_mean_array = np.zeros(n)\n",
    "\n",
    "\n",
    "for i in range(0, n):\n",
    "    Cs = Cs_array[i]\n",
    "    Rs = Rs_array[i]\n",
    "    \n",
    "    zsnub_lin = get_zsnub(freq_array, Rs, Cs)\n",
    "\n",
    "    \n",
    "    nei_array = get_nei(freq_array, zsnub_lin, Lsq, T)\n",
    "    #if (Rs > 1.99 and Rs < 2.1):\n",
    "    #    plt.figure(2)\n",
    "    #    plt.plot(freq_array*1e-6, nei_array*1e12)\n",
    "    #    plt.xlabel(\"Frequency [MHz]\")\n",
    "    #    plt.ylabel(\"NEI pA/sqrt(Hz)\")\n",
    "    #    plt.title(\"Rs = 2 Ohms\")\n",
    "        \n",
    "    NEI_max_array[i] = max(nei_array) # maximum over all frequencies\n",
    "    NEI_mean_array[i] = np.mean(nei_array) # maximum over all frequencies\n",
    "    \n",
    "#print(NEI_max_array)\n",
    "# show the range of nei over the different resistances\n",
    "print(\"Cutoff frequency: %.2f [MHz]\" %(fc/1e6))\n",
    "print(\"Lin: %.1f nH (45 for STRC, 70 for SA13)\" %(Lsq*1e9) )\n",
    "print(\"Range of max NEI: %.1f - %.1f  [pA/sqrt(Hz)]\" %(min(NEI_max_array)*1e12, max(NEI_max_array)*1e12) )\n",
    "print(\"Range of mean NEI: %.1f - %.1f  [pA/sqrt(Hz)]\" %(min(NEI_mean_array)*1e12, max(NEI_mean_array)*1e12) )\n",
    " \n",
    "# PLOT RESULTS\n",
    "plt.figure(1)\n",
    "plt.plot(Rs_array, NEI_all * np.ones(n) * 1e12, label=\"Allowable\")\n",
    "plt.plot(Rs_array, NEI_max_array * 1e12, label=\"Maximum\")\n",
    "plt.plot(Rs_array, NEI_mean_array * 1e12, label=\"Mean\")\n",
    "plt.legend()\n",
    "plt.xlabel(\"Rs [Ohms]\")\n",
    "plt.ylabel(\"NEI pA/sqrt(Hz)\")\n"
   ]
  },
  {
   "cell_type": "markdown",
   "metadata": {},
   "source": [
    "### Trim out bad Rs and Cs "
   ]
  },
  {
   "cell_type": "code",
   "execution_count": 46,
   "metadata": {},
   "outputs": [
    {
     "name": "stdout",
     "output_type": "stream",
     "text": [
      "Rs:  [0.11112296 0.19868977 0.25779492 0.30543624 0.34637848 0.38277885]\n",
      "Cs:  [1.12432432e-08 1.12702703e-08 1.12972973e-08 1.13243243e-08\n",
      " 1.13513514e-08 1.13783784e-08]\n",
      "Rs range: 0.11 0.38\n",
      "Cs range: 0.00 0.00\n"
     ]
    }
   ],
   "source": [
    "# Let's first filter out the bad RC values that don't meet our max NEI criteria\n",
    "\n",
    "# We'll have to use the mean NEI because apparently the max NEI sucks for everyone.\n",
    "\n",
    "# assume mean NEI grows monolithically with Rs\n",
    "i=0\n",
    "while NEI_max_array[i] < NEI_all:\n",
    "    i = i+1\n",
    "#print(i)\n",
    "\n",
    "# now we have the index. Get rid of bad Cs and Rs values by trimming the array\n",
    "#print(Rs_array)\n",
    "Rs_array = np.delete(Rs_array, list(range(i, n) ) )\n",
    "Cs_array = np.delete(Cs_array, list(range(i, n) ) )\n",
    "NEI_mean_array = np.delete(NEI_mean_array, list(range(i, n) ) )\n",
    "NEI_max_array = np.delete(NEI_max_array, list(range(i, n) ) )\n",
    "n=i\n",
    "\n",
    "print(\"Rs: \" , Rs_array)\n",
    "print(\"Cs: \", Cs_array)\n",
    "print(\"Rs range: %.2f %.2f\" %(min(Rs_array), max(Rs_array)))\n",
    "print(\"Cs range: %.2f %.2f\" %(min(Cs_array), max(Cs_array)))\n",
    "\n"
   ]
  },
  {
   "cell_type": "markdown",
   "metadata": {},
   "source": [
    "### Calculate CSF"
   ]
  },
  {
   "cell_type": "code",
   "execution_count": 48,
   "metadata": {},
   "outputs": [
    {
     "name": "stdout",
     "output_type": "stream",
     "text": [
      "Rs: 0.11 ohmns. Cs: 11.24 nF. Max NEI: 3.73e-12  Mean NEI:  1.95e-12 \n",
      "CSF Range with snubber: 1.09 - 1.71 \n",
      "CSF Range without snubber: 1.13  - 1.88  \n"
     ]
    },
    {
     "data": {
      "text/plain": [
       "<matplotlib.legend.Legend at 0x1ea46271a30>"
      ]
     },
     "execution_count": 48,
     "metadata": {},
     "output_type": "execute_result"
    },
    {
     "data": {
      "image/png": "[encoded data removed]",
      "text/plain": [
       "<Figure size 432x288 with 1 Axes>"
      ]
     },
     "metadata": {
      "needs_background": "light"
     },
     "output_type": "display_data"
    }
   ],
   "source": [
    "# SELECT AN RS TO PLOT\n",
    "# HERE\n",
    "Rs_plot = 0.11\n",
    "\n",
    "plt.figure(3)\n",
    "\n",
    "for i in range(0, n):\n",
    "    Cs = Cs_array[i]\n",
    "    Rs = Rs_array[i]\n",
    "    zsnub_array = get_zsnub(freq_array, Rs, Cs)\n",
    "    csf = get_csf(freq_array, zsnub_array, rtes=rtes, lsq=Lsq)\n",
    "    csf_stcr_nosnub = get_csf(freq_array, 1e6, rtes=rtes, lsq=Lsq)\n",
    "    csf_sa13_nosnub = get_csf(freq_array, 1e6, rtes=rtes, lsq=70e-9) \n",
    "\n",
    "    if (show_plot(Rs_plot, Rs)):\n",
    "        print(\"Rs: %.2f ohmns. Cs: %.2f nF. Max NEI: %.2e  Mean NEI:  %.2e \" %(Rs, Cs*1e9, NEI_max_array[i], NEI_mean_array[i] ))\n",
    "        print(\"CSF Range with snubber: %.2f - %.2f \" % (min(csf), max(csf)))\n",
    "        print(\"CSF Range without snubber: %.2f  - %.2f  \"  % (min(csf_stcr_nosnub), max(csf_stcr_nosnub)))\n",
    "        Rs_print = \"Rs = \" +  str( int(Rs*100)/100) + \" Ohms\"\n",
    "        plt.plot(freq_array/1e6, csf, label=\"STCR with snubber\")\n",
    "        plt.plot(freq_array/1e6, csf_stcr_nosnub, label=\"STRC w/o snubber\")\n",
    "        plt.plot(freq_array/1e6, csf_sa13_nosnub, \".-\", label=\"SA13 w/o snubber\")\n",
    "\n",
    "plt.title(Rs_print)\n",
    "plt.xlabel(\"Frequency [MHz]\")\n",
    "plt.ylabel(\"CSF\")\n",
    "plt.legend()"
   ]
  },
  {
   "cell_type": "markdown",
   "metadata": {},
   "source": [
    "### Plot the transfer function "
   ]
  },
  {
   "cell_type": "code",
   "execution_count": 49,
   "metadata": {},
   "outputs": [
    {
     "name": "stdout",
     "output_type": "stream",
     "text": [
      "TF in bias range: 1.05 - 1.68 \n",
      "Maximum resonance: 17.98 \n"
     ]
    },
    {
     "data": {
      "image/png": "[encoded data removed]",
      "text/plain": [
       "<Figure size 432x288 with 1 Axes>"
      ]
     },
     "metadata": {
      "needs_background": "light"
     },
     "output_type": "display_data"
    },
    {
     "data": {
      "image/png": "[encoded data removed]",
      "text/plain": [
       "<Figure size 432x288 with 1 Axes>"
      ]
     },
     "metadata": {
      "needs_background": "light"
     },
     "output_type": "display_data"
    }
   ],
   "source": [
    "# create a larger frequency array to see things in the log scale\n",
    "freq_array_log =  np.logspace(5, 8, 100)\n",
    "\n",
    "for i in range(0, n):\n",
    "    Cs = Cs_array[i]\n",
    "    Rs = Rs_array[i]\n",
    "    zsnub_array = get_zsnub(freq_array, Rs, Cs)\n",
    "    zsnub_array_log = get_zsnub(freq_array_log, Rs, Cs)\n",
    "    \n",
    "    if (show_plot(Rs_plot, Rs)):\n",
    "        TF = get_tf(freq_array, zsnub_array, lsq=Lsq)\n",
    "        TF_log = get_tf(freq_array_log, zsnub_array_log, lsq=Lsq)\n",
    "    \n",
    "        print(\"TF in bias range: %.2f - %.2f \" %( min(TF), max(TF) ))\n",
    "        print(\"Maximum resonance: %.2f \" %(max(TF_log)))\n",
    "        plt.figure(4) \n",
    "        plt.plot(freq_array/1e6, TF)\n",
    "        plt.title('Transfer function, ' + Rs_print)\n",
    "        plt.xlabel('Frequency [MHz]')\n",
    "        plt.ylabel('I_L / I_in')\n",
    "\n",
    "        plt.figure(5)\n",
    "        plt.semilogx(freq_array_log, TF_log)\n",
    "        plt.title('Transfer function')\n",
    "        plt.xlabel('Frequency [Hz]')\n",
    "        plt.ylabel('I_L / I_in')\n"
   ]
  },
  {
   "cell_type": "code",
   "execution_count": null,
   "metadata": {},
   "outputs": [],
   "source": []
  },
  {
   "cell_type": "code",
   "execution_count": null,
   "metadata": {},
   "outputs": [],
   "source": []
  }
 ],
 "metadata": {
  "kernelspec": {
   "display_name": "Python 3",
   "language": "python",
   "name": "python3"
  },
  "language_info": {
   "codemirror_mode": {
    "name": "ipython",
    "version": 3
   },
   "file_extension": ".py",
   "mimetype": "text/x-python",
   "name": "python",
   "nbconvert_exporter": "python",
   "pygments_lexer": "ipython3",
   "version": "3.8.3"
  }
 },
 "nbformat": 4,
 "nbformat_minor": 4
}
